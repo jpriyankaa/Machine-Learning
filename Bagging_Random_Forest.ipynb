{
  "nbformat": 4,
  "nbformat_minor": 0,
  "metadata": {
    "colab": {
      "provenance": []
    },
    "kernelspec": {
      "name": "python3",
      "display_name": "Python 3"
    },
    "language_info": {
      "name": "python"
    }
  },
  "cells": [
    {
      "cell_type": "markdown",
      "source": [
        "# Random Forest with Bagging - End-to-End Project\n",
        "\n",
        "Problem Statement:\n",
        "- Predict whether a loan applicant will default or not using customer financial and personal information.\n",
        "\n",
        "Random Forest, a powerful machine learning algorithm based on the idea of bagging (Bootstrap Aggregation).\n",
        "\n",
        "🗂 Dataset (Simulated)\n",
        "We'll simulate a small loan default dataset with:\n",
        "\n",
        "- income\n",
        "\n",
        "- credit_score\n",
        "\n",
        "- age\n",
        "\n",
        "- loan_amount\n",
        "\n",
        "- employment_status (categorical)\n",
        "\n",
        "- default (target: 0 = No, 1 = Yes)"
      ],
      "metadata": {
        "id": "wdI3T1r82LyR"
      }
    },
    {
      "cell_type": "code",
      "execution_count": 1,
      "metadata": {
        "id": "4rPW2u_f1nu0"
      },
      "outputs": [],
      "source": [
        "# Import Libraries\n",
        "import pandas as pd\n",
        "import numpy as np\n",
        "import matplotlib.pyplot as plt\n",
        "import seaborn as sns\n",
        "\n",
        "from sklearn.model_selection import train_test_split, GridSearchCV\n",
        "from sklearn.preprocessing import StandardScaler, LabelEncoder\n",
        "from sklearn.ensemble import RandomForestClassifier\n",
        "from sklearn.metrics import accuracy_score, classification_report, confusion_matrix\n"
      ]
    },
    {
      "cell_type": "code",
      "source": [
        "# Creating Sample Data\n",
        "# Sample data\n",
        "data = {\n",
        "    'income': np.random.randint(25000, 100000, 100),\n",
        "    'credit_score': np.random.randint(300, 850, 100),\n",
        "    'age': np.random.randint(21, 60, 100),\n",
        "    'loan_amount': np.random.randint(5000, 40000, 100),\n",
        "    'employment_status': np.random.choice(['employed', 'self-employed', 'unemployed'], 100),\n",
        "    'default': np.random.choice([0, 1], 100, p=[0.7, 0.3])\n",
        "}\n",
        "\n",
        "df = pd.DataFrame(data)\n",
        "df.head(10)\n"
      ],
      "metadata": {
        "colab": {
          "base_uri": "https://localhost:8080/",
          "height": 363
        },
        "id": "zAJKezpV5dS3",
        "outputId": "0a394f94-a391-4ac3-ba40-a2b43a08800b"
      },
      "execution_count": 12,
      "outputs": [
        {
          "output_type": "execute_result",
          "data": {
            "text/plain": [
              "   income  credit_score  age  loan_amount employment_status  default\n",
              "0   45420           773   55        26142          employed        0\n",
              "1   74615           560   39        30575        unemployed        1\n",
              "2   25122           689   22        19943        unemployed        1\n",
              "3   27284           588   24        28599     self-employed        0\n",
              "4   45265           639   37        34815        unemployed        0\n",
              "5   56857           534   21        25258        unemployed        1\n",
              "6   67037           538   54        32150        unemployed        0\n",
              "7   49494           733   49        15225     self-employed        0\n",
              "8   99719           749   41        35065        unemployed        0\n",
              "9   57319           837   52        26985          employed        0"
            ],
            "text/html": [
              "\n",
              "  <div id=\"df-7a5311d5-ce95-4923-a8ef-f393424d6df8\" class=\"colab-df-container\">\n",
              "    <div>\n",
              "<style scoped>\n",
              "    .dataframe tbody tr th:only-of-type {\n",
              "        vertical-align: middle;\n",
              "    }\n",
              "\n",
              "    .dataframe tbody tr th {\n",
              "        vertical-align: top;\n",
              "    }\n",
              "\n",
              "    .dataframe thead th {\n",
              "        text-align: right;\n",
              "    }\n",
              "</style>\n",
              "<table border=\"1\" class=\"dataframe\">\n",
              "  <thead>\n",
              "    <tr style=\"text-align: right;\">\n",
              "      <th></th>\n",
              "      <th>income</th>\n",
              "      <th>credit_score</th>\n",
              "      <th>age</th>\n",
              "      <th>loan_amount</th>\n",
              "      <th>employment_status</th>\n",
              "      <th>default</th>\n",
              "    </tr>\n",
              "  </thead>\n",
              "  <tbody>\n",
              "    <tr>\n",
              "      <th>0</th>\n",
              "      <td>45420</td>\n",
              "      <td>773</td>\n",
              "      <td>55</td>\n",
              "      <td>26142</td>\n",
              "      <td>employed</td>\n",
              "      <td>0</td>\n",
              "    </tr>\n",
              "    <tr>\n",
              "      <th>1</th>\n",
              "      <td>74615</td>\n",
              "      <td>560</td>\n",
              "      <td>39</td>\n",
              "      <td>30575</td>\n",
              "      <td>unemployed</td>\n",
              "      <td>1</td>\n",
              "    </tr>\n",
              "    <tr>\n",
              "      <th>2</th>\n",
              "      <td>25122</td>\n",
              "      <td>689</td>\n",
              "      <td>22</td>\n",
              "      <td>19943</td>\n",
              "      <td>unemployed</td>\n",
              "      <td>1</td>\n",
              "    </tr>\n",
              "    <tr>\n",
              "      <th>3</th>\n",
              "      <td>27284</td>\n",
              "      <td>588</td>\n",
              "      <td>24</td>\n",
              "      <td>28599</td>\n",
              "      <td>self-employed</td>\n",
              "      <td>0</td>\n",
              "    </tr>\n",
              "    <tr>\n",
              "      <th>4</th>\n",
              "      <td>45265</td>\n",
              "      <td>639</td>\n",
              "      <td>37</td>\n",
              "      <td>34815</td>\n",
              "      <td>unemployed</td>\n",
              "      <td>0</td>\n",
              "    </tr>\n",
              "    <tr>\n",
              "      <th>5</th>\n",
              "      <td>56857</td>\n",
              "      <td>534</td>\n",
              "      <td>21</td>\n",
              "      <td>25258</td>\n",
              "      <td>unemployed</td>\n",
              "      <td>1</td>\n",
              "    </tr>\n",
              "    <tr>\n",
              "      <th>6</th>\n",
              "      <td>67037</td>\n",
              "      <td>538</td>\n",
              "      <td>54</td>\n",
              "      <td>32150</td>\n",
              "      <td>unemployed</td>\n",
              "      <td>0</td>\n",
              "    </tr>\n",
              "    <tr>\n",
              "      <th>7</th>\n",
              "      <td>49494</td>\n",
              "      <td>733</td>\n",
              "      <td>49</td>\n",
              "      <td>15225</td>\n",
              "      <td>self-employed</td>\n",
              "      <td>0</td>\n",
              "    </tr>\n",
              "    <tr>\n",
              "      <th>8</th>\n",
              "      <td>99719</td>\n",
              "      <td>749</td>\n",
              "      <td>41</td>\n",
              "      <td>35065</td>\n",
              "      <td>unemployed</td>\n",
              "      <td>0</td>\n",
              "    </tr>\n",
              "    <tr>\n",
              "      <th>9</th>\n",
              "      <td>57319</td>\n",
              "      <td>837</td>\n",
              "      <td>52</td>\n",
              "      <td>26985</td>\n",
              "      <td>employed</td>\n",
              "      <td>0</td>\n",
              "    </tr>\n",
              "  </tbody>\n",
              "</table>\n",
              "</div>\n",
              "    <div class=\"colab-df-buttons\">\n",
              "\n",
              "  <div class=\"colab-df-container\">\n",
              "    <button class=\"colab-df-convert\" onclick=\"convertToInteractive('df-7a5311d5-ce95-4923-a8ef-f393424d6df8')\"\n",
              "            title=\"Convert this dataframe to an interactive table.\"\n",
              "            style=\"display:none;\">\n",
              "\n",
              "  <svg xmlns=\"http://www.w3.org/2000/svg\" height=\"24px\" viewBox=\"0 -960 960 960\">\n",
              "    <path d=\"M120-120v-720h720v720H120Zm60-500h600v-160H180v160Zm220 220h160v-160H400v160Zm0 220h160v-160H400v160ZM180-400h160v-160H180v160Zm440 0h160v-160H620v160ZM180-180h160v-160H180v160Zm440 0h160v-160H620v160Z\"/>\n",
              "  </svg>\n",
              "    </button>\n",
              "\n",
              "  <style>\n",
              "    .colab-df-container {\n",
              "      display:flex;\n",
              "      gap: 12px;\n",
              "    }\n",
              "\n",
              "    .colab-df-convert {\n",
              "      background-color: #E8F0FE;\n",
              "      border: none;\n",
              "      border-radius: 50%;\n",
              "      cursor: pointer;\n",
              "      display: none;\n",
              "      fill: #1967D2;\n",
              "      height: 32px;\n",
              "      padding: 0 0 0 0;\n",
              "      width: 32px;\n",
              "    }\n",
              "\n",
              "    .colab-df-convert:hover {\n",
              "      background-color: #E2EBFA;\n",
              "      box-shadow: 0px 1px 2px rgba(60, 64, 67, 0.3), 0px 1px 3px 1px rgba(60, 64, 67, 0.15);\n",
              "      fill: #174EA6;\n",
              "    }\n",
              "\n",
              "    .colab-df-buttons div {\n",
              "      margin-bottom: 4px;\n",
              "    }\n",
              "\n",
              "    [theme=dark] .colab-df-convert {\n",
              "      background-color: #3B4455;\n",
              "      fill: #D2E3FC;\n",
              "    }\n",
              "\n",
              "    [theme=dark] .colab-df-convert:hover {\n",
              "      background-color: #434B5C;\n",
              "      box-shadow: 0px 1px 3px 1px rgba(0, 0, 0, 0.15);\n",
              "      filter: drop-shadow(0px 1px 2px rgba(0, 0, 0, 0.3));\n",
              "      fill: #FFFFFF;\n",
              "    }\n",
              "  </style>\n",
              "\n",
              "    <script>\n",
              "      const buttonEl =\n",
              "        document.querySelector('#df-7a5311d5-ce95-4923-a8ef-f393424d6df8 button.colab-df-convert');\n",
              "      buttonEl.style.display =\n",
              "        google.colab.kernel.accessAllowed ? 'block' : 'none';\n",
              "\n",
              "      async function convertToInteractive(key) {\n",
              "        const element = document.querySelector('#df-7a5311d5-ce95-4923-a8ef-f393424d6df8');\n",
              "        const dataTable =\n",
              "          await google.colab.kernel.invokeFunction('convertToInteractive',\n",
              "                                                    [key], {});\n",
              "        if (!dataTable) return;\n",
              "\n",
              "        const docLinkHtml = 'Like what you see? Visit the ' +\n",
              "          '<a target=\"_blank\" href=https://colab.research.google.com/notebooks/data_table.ipynb>data table notebook</a>'\n",
              "          + ' to learn more about interactive tables.';\n",
              "        element.innerHTML = '';\n",
              "        dataTable['output_type'] = 'display_data';\n",
              "        await google.colab.output.renderOutput(dataTable, element);\n",
              "        const docLink = document.createElement('div');\n",
              "        docLink.innerHTML = docLinkHtml;\n",
              "        element.appendChild(docLink);\n",
              "      }\n",
              "    </script>\n",
              "  </div>\n",
              "\n",
              "\n",
              "    <div id=\"df-0aa0de23-9aca-4837-92ef-1991e62090ae\">\n",
              "      <button class=\"colab-df-quickchart\" onclick=\"quickchart('df-0aa0de23-9aca-4837-92ef-1991e62090ae')\"\n",
              "                title=\"Suggest charts\"\n",
              "                style=\"display:none;\">\n",
              "\n",
              "<svg xmlns=\"http://www.w3.org/2000/svg\" height=\"24px\"viewBox=\"0 0 24 24\"\n",
              "     width=\"24px\">\n",
              "    <g>\n",
              "        <path d=\"M19 3H5c-1.1 0-2 .9-2 2v14c0 1.1.9 2 2 2h14c1.1 0 2-.9 2-2V5c0-1.1-.9-2-2-2zM9 17H7v-7h2v7zm4 0h-2V7h2v10zm4 0h-2v-4h2v4z\"/>\n",
              "    </g>\n",
              "</svg>\n",
              "      </button>\n",
              "\n",
              "<style>\n",
              "  .colab-df-quickchart {\n",
              "      --bg-color: #E8F0FE;\n",
              "      --fill-color: #1967D2;\n",
              "      --hover-bg-color: #E2EBFA;\n",
              "      --hover-fill-color: #174EA6;\n",
              "      --disabled-fill-color: #AAA;\n",
              "      --disabled-bg-color: #DDD;\n",
              "  }\n",
              "\n",
              "  [theme=dark] .colab-df-quickchart {\n",
              "      --bg-color: #3B4455;\n",
              "      --fill-color: #D2E3FC;\n",
              "      --hover-bg-color: #434B5C;\n",
              "      --hover-fill-color: #FFFFFF;\n",
              "      --disabled-bg-color: #3B4455;\n",
              "      --disabled-fill-color: #666;\n",
              "  }\n",
              "\n",
              "  .colab-df-quickchart {\n",
              "    background-color: var(--bg-color);\n",
              "    border: none;\n",
              "    border-radius: 50%;\n",
              "    cursor: pointer;\n",
              "    display: none;\n",
              "    fill: var(--fill-color);\n",
              "    height: 32px;\n",
              "    padding: 0;\n",
              "    width: 32px;\n",
              "  }\n",
              "\n",
              "  .colab-df-quickchart:hover {\n",
              "    background-color: var(--hover-bg-color);\n",
              "    box-shadow: 0 1px 2px rgba(60, 64, 67, 0.3), 0 1px 3px 1px rgba(60, 64, 67, 0.15);\n",
              "    fill: var(--button-hover-fill-color);\n",
              "  }\n",
              "\n",
              "  .colab-df-quickchart-complete:disabled,\n",
              "  .colab-df-quickchart-complete:disabled:hover {\n",
              "    background-color: var(--disabled-bg-color);\n",
              "    fill: var(--disabled-fill-color);\n",
              "    box-shadow: none;\n",
              "  }\n",
              "\n",
              "  .colab-df-spinner {\n",
              "    border: 2px solid var(--fill-color);\n",
              "    border-color: transparent;\n",
              "    border-bottom-color: var(--fill-color);\n",
              "    animation:\n",
              "      spin 1s steps(1) infinite;\n",
              "  }\n",
              "\n",
              "  @keyframes spin {\n",
              "    0% {\n",
              "      border-color: transparent;\n",
              "      border-bottom-color: var(--fill-color);\n",
              "      border-left-color: var(--fill-color);\n",
              "    }\n",
              "    20% {\n",
              "      border-color: transparent;\n",
              "      border-left-color: var(--fill-color);\n",
              "      border-top-color: var(--fill-color);\n",
              "    }\n",
              "    30% {\n",
              "      border-color: transparent;\n",
              "      border-left-color: var(--fill-color);\n",
              "      border-top-color: var(--fill-color);\n",
              "      border-right-color: var(--fill-color);\n",
              "    }\n",
              "    40% {\n",
              "      border-color: transparent;\n",
              "      border-right-color: var(--fill-color);\n",
              "      border-top-color: var(--fill-color);\n",
              "    }\n",
              "    60% {\n",
              "      border-color: transparent;\n",
              "      border-right-color: var(--fill-color);\n",
              "    }\n",
              "    80% {\n",
              "      border-color: transparent;\n",
              "      border-right-color: var(--fill-color);\n",
              "      border-bottom-color: var(--fill-color);\n",
              "    }\n",
              "    90% {\n",
              "      border-color: transparent;\n",
              "      border-bottom-color: var(--fill-color);\n",
              "    }\n",
              "  }\n",
              "</style>\n",
              "\n",
              "      <script>\n",
              "        async function quickchart(key) {\n",
              "          const quickchartButtonEl =\n",
              "            document.querySelector('#' + key + ' button');\n",
              "          quickchartButtonEl.disabled = true;  // To prevent multiple clicks.\n",
              "          quickchartButtonEl.classList.add('colab-df-spinner');\n",
              "          try {\n",
              "            const charts = await google.colab.kernel.invokeFunction(\n",
              "                'suggestCharts', [key], {});\n",
              "          } catch (error) {\n",
              "            console.error('Error during call to suggestCharts:', error);\n",
              "          }\n",
              "          quickchartButtonEl.classList.remove('colab-df-spinner');\n",
              "          quickchartButtonEl.classList.add('colab-df-quickchart-complete');\n",
              "        }\n",
              "        (() => {\n",
              "          let quickchartButtonEl =\n",
              "            document.querySelector('#df-0aa0de23-9aca-4837-92ef-1991e62090ae button');\n",
              "          quickchartButtonEl.style.display =\n",
              "            google.colab.kernel.accessAllowed ? 'block' : 'none';\n",
              "        })();\n",
              "      </script>\n",
              "    </div>\n",
              "\n",
              "    </div>\n",
              "  </div>\n"
            ],
            "application/vnd.google.colaboratory.intrinsic+json": {
              "type": "dataframe",
              "variable_name": "df",
              "summary": "{\n  \"name\": \"df\",\n  \"rows\": 100,\n  \"fields\": [\n    {\n      \"column\": \"income\",\n      \"properties\": {\n        \"dtype\": \"number\",\n        \"std\": 21165,\n        \"min\": 25122,\n        \"max\": 99719,\n        \"num_unique_values\": 100,\n        \"samples\": [\n          70428,\n          41980,\n          42751\n        ],\n        \"semantic_type\": \"\",\n        \"description\": \"\"\n      }\n    },\n    {\n      \"column\": \"credit_score\",\n      \"properties\": {\n        \"dtype\": \"number\",\n        \"std\": 143,\n        \"min\": 301,\n        \"max\": 837,\n        \"num_unique_values\": 88,\n        \"samples\": [\n          644,\n          773,\n          541\n        ],\n        \"semantic_type\": \"\",\n        \"description\": \"\"\n      }\n    },\n    {\n      \"column\": \"age\",\n      \"properties\": {\n        \"dtype\": \"number\",\n        \"std\": 11,\n        \"min\": 21,\n        \"max\": 59,\n        \"num_unique_values\": 33,\n        \"samples\": [\n          40,\n          48,\n          47\n        ],\n        \"semantic_type\": \"\",\n        \"description\": \"\"\n      }\n    },\n    {\n      \"column\": \"loan_amount\",\n      \"properties\": {\n        \"dtype\": \"number\",\n        \"std\": 9171,\n        \"min\": 5777,\n        \"max\": 39792,\n        \"num_unique_values\": 100,\n        \"samples\": [\n          13945,\n          10538,\n          12423\n        ],\n        \"semantic_type\": \"\",\n        \"description\": \"\"\n      }\n    },\n    {\n      \"column\": \"employment_status\",\n      \"properties\": {\n        \"dtype\": \"category\",\n        \"num_unique_values\": 3,\n        \"samples\": [\n          \"employed\",\n          \"unemployed\",\n          \"self-employed\"\n        ],\n        \"semantic_type\": \"\",\n        \"description\": \"\"\n      }\n    },\n    {\n      \"column\": \"default\",\n      \"properties\": {\n        \"dtype\": \"number\",\n        \"std\": 0,\n        \"min\": 0,\n        \"max\": 1,\n        \"num_unique_values\": 2,\n        \"samples\": [\n          1,\n          0\n        ],\n        \"semantic_type\": \"\",\n        \"description\": \"\"\n      }\n    }\n  ]\n}"
            }
          },
          "metadata": {},
          "execution_count": 12
        }
      ]
    },
    {
      "cell_type": "code",
      "source": [
        "# Data Cleaning\n",
        "print(df.isnull().sum())  # Check for missing values\n",
        "print(df.dtypes)          # Check datatypes\n",
        "\n"
      ],
      "metadata": {
        "colab": {
          "base_uri": "https://localhost:8080/"
        },
        "id": "Q1HyEGTP5kVn",
        "outputId": "4ef9afd9-0a28-466a-91d5-00749f62a6a3"
      },
      "execution_count": 3,
      "outputs": [
        {
          "output_type": "stream",
          "name": "stdout",
          "text": [
            "income               0\n",
            "credit_score         0\n",
            "age                  0\n",
            "loan_amount          0\n",
            "employment_status    0\n",
            "default              0\n",
            "dtype: int64\n",
            "income                int64\n",
            "credit_score          int64\n",
            "age                   int64\n",
            "loan_amount           int64\n",
            "employment_status    object\n",
            "default               int64\n",
            "dtype: object\n"
          ]
        }
      ]
    },
    {
      "cell_type": "code",
      "source": [
        "# Data Preprocessing\n",
        "# Encode categorical\n",
        "df['employment_status'] = LabelEncoder().fit_transform(df['employment_status'])\n",
        "\n",
        "# Features and target\n",
        "X = df.drop('default', axis=1)\n",
        "y = df['default']\n",
        "\n",
        "# Scale features\n",
        "scaler = StandardScaler()\n",
        "X_scaled = scaler.fit_transform(X)\n"
      ],
      "metadata": {
        "id": "8_zmhq_O5po3"
      },
      "execution_count": 4,
      "outputs": []
    },
    {
      "cell_type": "code",
      "source": [
        "# Train-Test Split\n",
        "X_train, X_test, y_train, y_test = train_test_split(X_scaled, y, test_size=0.2, random_state=42)\n"
      ],
      "metadata": {
        "id": "0opnP_C75vzg"
      },
      "execution_count": 5,
      "outputs": []
    },
    {
      "cell_type": "code",
      "source": [
        "# Train Random Forest Classifier\n",
        "rf = RandomForestClassifier(n_estimators=100, random_state=42)\n",
        "rf.fit(X_train, y_train)\n",
        "y_pred = rf.predict(X_test)\n",
        "\n"
      ],
      "metadata": {
        "id": "siP3o_iy52MH"
      },
      "execution_count": 6,
      "outputs": []
    },
    {
      "cell_type": "code",
      "source": [
        "# Evaluation\n",
        "print(\"Accuracy:\", accuracy_score(y_test, y_pred))\n",
        "print(confusion_matrix(y_test, y_pred))\n",
        "print(classification_report(y_test, y_pred))\n"
      ],
      "metadata": {
        "colab": {
          "base_uri": "https://localhost:8080/"
        },
        "id": "GlR7DLw357vf",
        "outputId": "219b0147-1dd9-4e44-8c38-52678f9fb82a"
      },
      "execution_count": 7,
      "outputs": [
        {
          "output_type": "stream",
          "name": "stdout",
          "text": [
            "Accuracy: 0.75\n",
            "[[14  2]\n",
            " [ 3  1]]\n",
            "              precision    recall  f1-score   support\n",
            "\n",
            "           0       0.82      0.88      0.85        16\n",
            "           1       0.33      0.25      0.29         4\n",
            "\n",
            "    accuracy                           0.75        20\n",
            "   macro avg       0.58      0.56      0.57        20\n",
            "weighted avg       0.73      0.75      0.74        20\n",
            "\n"
          ]
        }
      ]
    },
    {
      "cell_type": "code",
      "source": [
        "# Feature Importance\n",
        "importances = rf.feature_importances_\n",
        "feature_names = X.columns\n",
        "plt.figure(figsize=(8, 4))\n",
        "sns.barplot(x=importances, y=feature_names)\n",
        "plt.title(\"Feature Importances\")\n",
        "plt.show()\n"
      ],
      "metadata": {
        "colab": {
          "base_uri": "https://localhost:8080/",
          "height": 391
        },
        "id": "nLDM-yIT6AXe",
        "outputId": "3990119e-e02e-4c10-9071-527f9d704e7b"
      },
      "execution_count": 8,
      "outputs": [
        {
          "output_type": "display_data",
          "data": {
            "text/plain": [
              "<Figure size 800x400 with 1 Axes>"
            ],
            "image/png": "[encoded data removed]"
          },
          "metadata": {}
        }
      ]
    },
    {
      "cell_type": "code",
      "source": [
        "# Hyperparameter Tuning\n",
        "param_grid = {\n",
        "    'n_estimators': [100, 200],\n",
        "    'max_depth': [None, 5, 10],\n",
        "    'min_samples_split': [2, 5],\n",
        "    'min_samples_leaf': [1, 2],\n",
        "}\n",
        "\n",
        "grid = GridSearchCV(RandomForestClassifier(random_state=42), param_grid, cv=3, scoring='accuracy')\n",
        "grid.fit(X_train, y_train)\n",
        "\n",
        "print(\"Best Parameters:\", grid.best_params_)\n",
        "best_model = grid.best_estimator_\n"
      ],
      "metadata": {
        "colab": {
          "base_uri": "https://localhost:8080/"
        },
        "id": "1txNhHdu6GUu",
        "outputId": "5bfee9f2-c12b-4b19-d05b-5d092b865b98"
      },
      "execution_count": 9,
      "outputs": [
        {
          "output_type": "stream",
          "name": "stdout",
          "text": [
            "Best Parameters: {'max_depth': None, 'min_samples_leaf': 2, 'min_samples_split': 2, 'n_estimators': 100}\n"
          ]
        }
      ]
    },
    {
      "cell_type": "code",
      "source": [
        "# Final Evaluation with Tuned Model\n",
        "y_pred_tuned = best_model.predict(X_test)\n",
        "print(\"Tuned Accuracy:\", accuracy_score(y_test, y_pred_tuned))\n",
        "print(confusion_matrix(y_test, y_pred_tuned))\n",
        "print(classification_report(y_test, y_pred_tuned))\n"
      ],
      "metadata": {
        "colab": {
          "base_uri": "https://localhost:8080/"
        },
        "id": "e2C_4uGD6Kuv",
        "outputId": "fab90245-21ef-4ecd-b99e-d3409f552b71"
      },
      "execution_count": 10,
      "outputs": [
        {
          "output_type": "stream",
          "name": "stdout",
          "text": [
            "Tuned Accuracy: 0.75\n",
            "[[14  2]\n",
            " [ 3  1]]\n",
            "              precision    recall  f1-score   support\n",
            "\n",
            "           0       0.82      0.88      0.85        16\n",
            "           1       0.33      0.25      0.29         4\n",
            "\n",
            "    accuracy                           0.75        20\n",
            "   macro avg       0.58      0.56      0.57        20\n",
            "weighted avg       0.73      0.75      0.74        20\n",
            "\n"
          ]
        }
      ]
    },
    {
      "cell_type": "markdown",
      "source": [
        "| Benefit                            | Why It Matters                                  |\n",
        "| ---------------------------------- | ----------------------------------------------- |\n",
        "| 🎯 High accuracy                   | Handles both classification and regression well |\n",
        "| 🔁 Reduces overfitting             | Through bagging (bootstrapped subsets)          |\n",
        "| 🔍 Feature importance              | Helps in feature selection                      |\n",
        "| 🧠 Handles missing data & outliers | Robust in real-world scenarios                  |\n",
        "| 🧪 Works with non-linear data      | No need for feature scaling or linearity        |\n",
        "\n",
        "\n",
        "| Limitation                     | Impact                                       |\n",
        "| ------------------------------ | -------------------------------------------- |\n",
        "| 🐢 Slow for large datasets     | Many trees = slower training/prediction      |\n",
        "| 🧩 Less interpretable          | Hard to explain decisions                    |\n",
        "| 💾 High memory                 | Each tree takes memory                       |\n",
        "| ⚖️ Biased with imbalanced data | Needs techniques like class weights or SMOTE |\n",
        "\n",
        "\n",
        "Real-World Use Cases\n",
        "💳 Credit default prediction\n",
        "\n",
        "🏥 Disease diagnosis\n",
        "\n",
        "🏦 Fraud detection\n",
        "\n",
        "📊 Customer segmentation\n",
        "\n"
      ],
      "metadata": {
        "id": "-6_7sdCK6Zta"
      }
    },
    {
      "cell_type": "code",
      "source": [],
      "metadata": {
        "id": "uMI30Zqj6Pp2"
      },
      "execution_count": null,
      "outputs": []
    }
  ]
}