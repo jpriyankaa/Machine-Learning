{
  "nbformat": 4,
  "nbformat_minor": 0,
  "metadata": {
    "colab": {
      "provenance": []
    },
    "kernelspec": {
      "name": "python3",
      "display_name": "Python 3"
    },
    "language_info": {
      "name": "python"
    }
  },
  "cells": [
    {
      "cell_type": "markdown",
      "source": [
        "Q-Learning Project: Grid-World Navigation\n",
        "\n",
        "- Reinforcement Learning (RL) now — and Q-Learning is one of its most important foundational algorithms. Let's break it down step by step with a simple grid-world problem.\n",
        "\n",
        "🎯 Problem Statement:\n",
        "An agent (robot) moves in a 4x4 grid to reach a goal cell while avoiding obstacles. Using Q-learning, the agent learns the optimal path through trial and error by maximizing rewards.\n",
        "\n",
        "🔁 What is Q-Learning?\n",
        "Q-Learning is a model-free reinforcement learning algorithm used to learn the optimal action-selection policy for a given environment.\n",
        "\n",
        "Learns Q-values: Expected future rewards for taking an action in a given state\n",
        "\n",
        "Based on Bellman Equation:\n",
        "\n",
        "𝑄\n",
        "(\n",
        "𝑠\n",
        ",\n",
        "𝑎\n",
        ")\n",
        "←\n",
        "𝑄\n",
        "(\n",
        "𝑠\n",
        ",\n",
        "𝑎\n",
        ")\n",
        "+\n",
        "𝛼\n",
        "[\n",
        "𝑟\n",
        "+\n",
        "𝛾\n",
        "max\n",
        "⁡\n",
        "𝑎\n",
        "′\n",
        "𝑄\n",
        "(\n",
        "𝑠\n",
        "′\n",
        ",\n",
        "𝑎\n",
        "′\n",
        ")\n",
        "−\n",
        "𝑄\n",
        "(\n",
        "𝑠\n",
        ",\n",
        "𝑎\n",
        ")\n",
        "]\n",
        "Q(s,a)←Q(s,a)+α[r+γ\n",
        "a\n",
        "′\n",
        "\n",
        "max\n",
        "​\n",
        " Q(s\n",
        "′\n",
        " ,a\n",
        "′\n",
        " )−Q(s,a)]\n",
        "Where:\n",
        "\n",
        "𝑄\n",
        "(\n",
        "𝑠\n",
        ",\n",
        "𝑎\n",
        ")\n",
        "Q(s,a): current Q-value\n",
        "\n",
        "𝑟\n",
        "r: reward\n",
        "\n",
        "𝛾\n",
        "γ: discount factor (importance of future rewards)\n",
        "\n",
        "𝛼\n",
        "α: learning rate\n",
        "\n",
        "𝑠\n",
        ",\n",
        "𝑎\n",
        "s,a: current state & action\n",
        "\n",
        "𝑠\n",
        "′\n",
        ",\n",
        "𝑎\n",
        "′\n",
        "s\n",
        "′\n",
        " ,a\n",
        "′\n",
        " : next state & best next action\n",
        "\n",
        "📦 Step 1: Define Environment\n",
        "We'll simulate a simple 4x4 grid where:\n",
        "\n",
        "S is the start\n",
        "\n",
        "G is the goal (+10 reward)\n",
        "\n",
        "X are obstacles (-10 penalty)\n",
        "\n",
        "Empty cells give a small penalty (-1) to encourage faster solutions\n",
        "\n"
      ],
      "metadata": {
        "id": "7ZUnzEEq6YJw"
      }
    },
    {
      "cell_type": "code",
      "source": [
        "import numpy as np\n",
        "import random\n",
        "\n",
        "# 0: empty, -10: obstacle, 10: goal\n",
        "grid = np.array([\n",
        "    [  0,   0,   0,   0],\n",
        "    [  0, -10,   0,   0],\n",
        "    [  0,   0,   0, -10],\n",
        "    [  0,   0,   0,  10]\n",
        "])\n",
        "\n",
        "n_rows, n_cols = grid.shape\n",
        "actions = ['up', 'down', 'left', 'right']\n"
      ],
      "metadata": {
        "id": "XKDT20Pm6ncD"
      },
      "execution_count": 1,
      "outputs": []
    },
    {
      "cell_type": "code",
      "source": [
        "# Initialize Q-table\n",
        "Q = {}\n",
        "for i in range(n_rows):\n",
        "    for j in range(n_cols):\n",
        "        Q[(i, j)] = {a: 0 for a in actions}\n"
      ],
      "metadata": {
        "id": "3HZ430mu6sE2"
      },
      "execution_count": 2,
      "outputs": []
    },
    {
      "cell_type": "code",
      "source": [
        "# Define Agent Actions\n",
        "def get_next_state(state, action):\n",
        "    i, j = state\n",
        "    if action == 'up':\n",
        "        i = max(i - 1, 0)\n",
        "    elif action == 'down':\n",
        "        i = min(i + 1, n_rows - 1)\n",
        "    elif action == 'left':\n",
        "        j = max(j - 1, 0)\n",
        "    elif action == 'right':\n",
        "        j = min(j + 1, n_cols - 1)\n",
        "    return (i, j)\n"
      ],
      "metadata": {
        "id": "t84pvnUY62sj"
      },
      "execution_count": 3,
      "outputs": []
    },
    {
      "cell_type": "code",
      "source": [
        "# Q-Learning Algorithm\n",
        "alpha = 0.1        # learning rate\n",
        "gamma = 0.9        # discount factor\n",
        "epsilon = 0.1      # exploration rate\n",
        "episodes = 1000    # training episodes\n",
        "\n",
        "for episode in range(episodes):\n",
        "    state = (0, 0)  # Start at top-left\n",
        "    while state != (3, 3):\n",
        "        # Choose action\n",
        "        if random.uniform(0, 1) < epsilon:\n",
        "            action = random.choice(actions)\n",
        "        else:\n",
        "            action = max(Q[state], key=Q[state].get)\n",
        "\n",
        "        next_state = get_next_state(state, action)\n",
        "        reward = grid[next_state]\n",
        "\n",
        "        # Q-update\n",
        "        max_next_q = max(Q[next_state].values())\n",
        "        Q[state][action] += alpha * (reward + gamma * max_next_q - Q[state][action])\n",
        "\n",
        "        state = next_state\n"
      ],
      "metadata": {
        "id": "DrWEJanu67Bz"
      },
      "execution_count": 4,
      "outputs": []
    },
    {
      "cell_type": "code",
      "source": [
        "# Derive Optimal Policy\n",
        "policy = {}\n",
        "for state in Q:\n",
        "    policy[state] = max(Q[state], key=Q[state].get)\n",
        "\n",
        "print(\"Derived Policy (best action at each cell):\")\n",
        "for i in range(n_rows):\n",
        "    row = ''\n",
        "    for j in range(n_cols):\n",
        "        row += policy[(i, j)][0].upper() + ' '\n",
        "    print(row)\n"
      ],
      "metadata": {
        "colab": {
          "base_uri": "https://localhost:8080/"
        },
        "id": "t8HRo4Qt6_47",
        "outputId": "d2827bb1-bf00-4d90-913c-949d01fe1192"
      },
      "execution_count": 5,
      "outputs": [
        {
          "output_type": "stream",
          "name": "stdout",
          "text": [
            "Derived Policy (best action at each cell):\n",
            "R R D L \n",
            "U D D U \n",
            "U D D D \n",
            "U R R U \n"
          ]
        }
      ]
    },
    {
      "cell_type": "markdown",
      "source": [
        "| Pros                           | Why It Helps                 |\n",
        "| ------------------------------ | ---------------------------- |\n",
        "| 📦 Model-free                  | No need to model environment |\n",
        "| 💡 Converges to optimal policy | Under proper exploration     |\n",
        "| 🧠 Simple & intuitive          | Great for learning RL basics |\n",
        "\n",
        "\n",
        "| Cons                          | Why It Hurts                               |\n",
        "| ----------------------------- | ------------------------------------------ |\n",
        "| 🐢 Slow in large state spaces | Needs thousands of updates                 |\n",
        "| ❌ Discrete state/action only  | Doesn’t work well for continuous states    |\n",
        "| 💥 Needs exploration strategy | Exploration-exploitation balance is tricky |\n",
        "\n",
        "\n",
        "Real-World Use Cases\n",
        "🤖 Robot pathfinding\n",
        "\n",
        "🚗 Autonomous driving (lane switching, braking)\n",
        "\n",
        "📈 Financial trading strategies\n",
        "\n",
        "🧠 Game AI (e.g., Pac-Man agent)\n",
        "\n",
        "\n",
        "\n",
        "| Step            | Action                         |\n",
        "| --------------- | ------------------------------ |\n",
        "| Algorithm       | Q-Learning (off-policy RL)     |\n",
        "| Environment     | 4x4 grid with goal/obstacles   |\n",
        "| Learning Output | Q-table & optimal navigation   |\n",
        "| Techniques Used | Epsilon-greedy, Bellman Update |\n"
      ],
      "metadata": {
        "id": "BHsiIdNJ7InO"
      }
    },
    {
      "cell_type": "code",
      "source": [],
      "metadata": {
        "id": "Fa6KvHdD7FwD"
      },
      "execution_count": null,
      "outputs": []
    }
  ]
}