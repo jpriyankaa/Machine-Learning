{
  "nbformat": 4,
  "nbformat_minor": 0,
  "metadata": {
    "colab": {
      "provenance": []
    },
    "kernelspec": {
      "name": "python3",
      "display_name": "Python 3"
    },
    "language_info": {
      "name": "python"
    }
  },
  "cells": [
    {
      "cell_type": "markdown",
      "source": [
        "# Decision Tree Classification: Loan Approval Prediction\n",
        "✅ Predict if a loan application will be Approved (1) or Rejected (0) based on applicant information.\n",
        "\n",
        "| Column             | Description                          |\n",
        "| ------------------ | ------------------------------------ |\n",
        "| `applicant_income` | Income in ₹000s                      |\n",
        "| `credit_score`     | Credit score (300–900)               |\n",
        "| `loan_amount`      | Loan requested in ₹000s              |\n",
        "| `loan_term`        | Duration in months                   |\n",
        "| `dependents`       | Number of dependents (0–3)           |\n",
        "| `married`          | Marital status (1=Yes, 0=No)         |\n",
        "| `education`        | Graduate? (1=Yes, 0=No)              |\n",
        "| `approved`         | Target: Loan approved? (1=Yes, 0=No) |\n"
      ],
      "metadata": {
        "id": "cYAchd2jVZXM"
      }
    },
    {
      "cell_type": "code",
      "source": [
        "# Data Cleaning\n",
        "import pandas as pd\n",
        "import numpy as np\n",
        "\n",
        "np.random.seed(42)\n",
        "\n",
        "# Simulating a realistic dataset\n",
        "data = pd.DataFrame({\n",
        "    'applicant_income': np.random.randint(20, 100, 30),\n",
        "    'credit_score': np.random.randint(300, 900, 30),\n",
        "    'loan_amount': np.random.randint(50, 300, 30),\n",
        "    'loan_term': np.random.choice([12, 24, 36, 60], 30),\n",
        "    'dependents': np.random.randint(0, 4, 30),\n",
        "    'married': np.random.choice([0, 1], 30),\n",
        "    'education': np.random.choice([0, 1], 30),\n",
        "    'approved': np.random.choice([0, 1], 30)\n",
        "})\n",
        "\n",
        "# Check for missing values\n",
        "print(\"Missing Values:\\n\", data.isnull().sum())\n",
        "\n",
        "\n"
      ],
      "metadata": {
        "colab": {
          "base_uri": "https://localhost:8080/"
        },
        "id": "QGkQ9b_NWODx",
        "outputId": "8eb683cc-4404-40de-92c1-f1f70945954c"
      },
      "execution_count": 1,
      "outputs": [
        {
          "output_type": "stream",
          "name": "stdout",
          "text": [
            "Missing Values:\n",
            " applicant_income    0\n",
            "credit_score        0\n",
            "loan_amount         0\n",
            "loan_term           0\n",
            "dependents          0\n",
            "married             0\n",
            "education           0\n",
            "approved            0\n",
            "dtype: int64\n"
          ]
        }
      ]
    },
    {
      "cell_type": "markdown",
      "source": [
        "No missing values in this synthetic data. If real: use .fillna() or .dropna().\n"
      ],
      "metadata": {
        "id": "prqMq5xDWWzA"
      }
    },
    {
      "cell_type": "code",
      "source": [
        "# Data Preprocessing\n",
        "# No categorical encoding needed here, since all are numeric or binary.\n",
        "# Optional: check data types\n",
        "print(data.dtypes)\n"
      ],
      "metadata": {
        "colab": {
          "base_uri": "https://localhost:8080/"
        },
        "id": "ERNuhsHUWS2r",
        "outputId": "d4259ec0-a828-4c59-fefe-5cd5990c622e"
      },
      "execution_count": 2,
      "outputs": [
        {
          "output_type": "stream",
          "name": "stdout",
          "text": [
            "applicant_income    int64\n",
            "credit_score        int64\n",
            "loan_amount         int64\n",
            "loan_term           int64\n",
            "dependents          int64\n",
            "married             int64\n",
            "education           int64\n",
            "approved            int64\n",
            "dtype: object\n"
          ]
        }
      ]
    },
    {
      "cell_type": "code",
      "source": [
        "# Feature Engineering\n",
        "# You can add derived features if needed:\n",
        "data['income_to_loan_ratio'] = data['applicant_income'] / data['loan_amount']\n"
      ],
      "metadata": {
        "id": "9KkQGOgIXSO6"
      },
      "execution_count": 3,
      "outputs": []
    },
    {
      "cell_type": "markdown",
      "source": [
        "We'll keep it simple here, but adding features like:\n",
        "\n",
        "- loan_amount / income\n",
        "\n",
        "- credit_score_bucket could be useful in real cases."
      ],
      "metadata": {
        "id": "4_Y35L0DXuV0"
      }
    },
    {
      "cell_type": "code",
      "source": [
        "# Train-Test Split\n",
        "from sklearn.model_selection import train_test_split\n",
        "\n",
        "X = data.drop('approved', axis=1)\n",
        "y = data['approved']\n",
        "\n",
        "X_train, X_test, y_train, y_test = train_test_split(X, y, test_size=0.2, random_state=42)\n"
      ],
      "metadata": {
        "id": "BvaS-yJiXdNy"
      },
      "execution_count": 4,
      "outputs": []
    },
    {
      "cell_type": "code",
      "source": [
        "# Model Training (Logistic Regression, Random Forest, XGBoost)\n",
        "from sklearn.linear_model import LogisticRegression\n",
        "from sklearn.ensemble import RandomForestClassifier\n",
        "from xgboost import XGBClassifier\n",
        "\n",
        "models = {\n",
        "    \"Logistic Regression\": LogisticRegression(),\n",
        "    \"Random Forest\": RandomForestClassifier(),\n",
        "    \"XGBoost\": XGBClassifier(use_label_encoder=False, eval_metric='logloss')\n",
        "}\n",
        "\n",
        "for name, model in models.items():\n",
        "    model.fit(X_train, y_train)\n",
        "    print(f\"✅ {name} trained.\")\n",
        "\n"
      ],
      "metadata": {
        "colab": {
          "base_uri": "https://localhost:8080/"
        },
        "id": "V0BBNx9_X5wL",
        "outputId": "47734dc9-e4ff-4481-a5b6-c9bfcd42b5fc"
      },
      "execution_count": 5,
      "outputs": [
        {
          "output_type": "stream",
          "name": "stderr",
          "text": [
            "/usr/local/lib/python3.11/dist-packages/sklearn/linear_model/_logistic.py:465: ConvergenceWarning: lbfgs failed to converge (status=1):\n",
            "STOP: TOTAL NO. OF ITERATIONS REACHED LIMIT.\n",
            "\n",
            "Increase the number of iterations (max_iter) or scale the data as shown in:\n",
            "    https://scikit-learn.org/stable/modules/preprocessing.html\n",
            "Please also refer to the documentation for alternative solver options:\n",
            "    https://scikit-learn.org/stable/modules/linear_model.html#logistic-regression\n",
            "  n_iter_i = _check_optimize_result(\n"
          ]
        },
        {
          "output_type": "stream",
          "name": "stdout",
          "text": [
            "✅ Logistic Regression trained.\n",
            "✅ Random Forest trained.\n",
            "✅ XGBoost trained.\n"
          ]
        },
        {
          "output_type": "stream",
          "name": "stderr",
          "text": [
            "/usr/local/lib/python3.11/dist-packages/xgboost/core.py:158: UserWarning: [09:59:35] WARNING: /workspace/src/learner.cc:740: \n",
            "Parameters: { \"use_label_encoder\" } are not used.\n",
            "\n",
            "  warnings.warn(smsg, UserWarning)\n"
          ]
        }
      ]
    },
    {
      "cell_type": "code",
      "source": [
        "# Evaluation (All Models)\n",
        "\n",
        "from sklearn.metrics import accuracy_score, confusion_matrix, classification_report\n",
        "\n",
        "for name, model in models.items():\n",
        "    y_pred = model.predict(X_test)\n",
        "    print(f\"\\n📌 {name} Results:\")\n",
        "    print(\"Accuracy:\", accuracy_score(y_test, y_pred))\n",
        "    print(\"Confusion Matrix:\\n\", confusion_matrix(y_test, y_pred))\n",
        "    print(\"Classification Report:\\n\", classification_report(y_test, y_pred))\n"
      ],
      "metadata": {
        "colab": {
          "base_uri": "https://localhost:8080/"
        },
        "id": "NpAgu7tZYB2Z",
        "outputId": "71de4cf3-e1c4-4dbc-ff59-da585b43e963"
      },
      "execution_count": 6,
      "outputs": [
        {
          "output_type": "stream",
          "name": "stdout",
          "text": [
            "\n",
            "📌 Logistic Regression Results:\n",
            "Accuracy: 0.6666666666666666\n",
            "Confusion Matrix:\n",
            " [[1 1]\n",
            " [1 3]]\n",
            "Classification Report:\n",
            "               precision    recall  f1-score   support\n",
            "\n",
            "           0       0.50      0.50      0.50         2\n",
            "           1       0.75      0.75      0.75         4\n",
            "\n",
            "    accuracy                           0.67         6\n",
            "   macro avg       0.62      0.62      0.62         6\n",
            "weighted avg       0.67      0.67      0.67         6\n",
            "\n",
            "\n",
            "📌 Random Forest Results:\n",
            "Accuracy: 0.8333333333333334\n",
            "Confusion Matrix:\n",
            " [[2 0]\n",
            " [1 3]]\n",
            "Classification Report:\n",
            "               precision    recall  f1-score   support\n",
            "\n",
            "           0       0.67      1.00      0.80         2\n",
            "           1       1.00      0.75      0.86         4\n",
            "\n",
            "    accuracy                           0.83         6\n",
            "   macro avg       0.83      0.88      0.83         6\n",
            "weighted avg       0.89      0.83      0.84         6\n",
            "\n",
            "\n",
            "📌 XGBoost Results:\n",
            "Accuracy: 0.3333333333333333\n",
            "Confusion Matrix:\n",
            " [[0 2]\n",
            " [2 2]]\n",
            "Classification Report:\n",
            "               precision    recall  f1-score   support\n",
            "\n",
            "           0       0.00      0.00      0.00         2\n",
            "           1       0.50      0.50      0.50         4\n",
            "\n",
            "    accuracy                           0.33         6\n",
            "   macro avg       0.25      0.25      0.25         6\n",
            "weighted avg       0.33      0.33      0.33         6\n",
            "\n"
          ]
        }
      ]
    },
    {
      "cell_type": "code",
      "source": [
        "# Hyperparameter Tuning (Random Forest)\n",
        "\n",
        "from sklearn.model_selection import GridSearchCV\n",
        "\n",
        "param_grid = {\n",
        "    'max_depth': [3, 4, 5],\n",
        "    'n_estimators': [50, 100],\n",
        "    'min_samples_split': [2, 4]\n",
        "}\n",
        "\n",
        "grid = GridSearchCV(RandomForestClassifier(), param_grid, cv=3)\n",
        "grid.fit(X_train, y_train)\n",
        "\n",
        "print(\"Best Parameters:\", grid.best_params_)\n",
        "\n",
        "best_model = grid.best_estimator_\n",
        "y_pred_best = best_model.predict(X_test)\n",
        "print(\"Tuned Accuracy:\", accuracy_score(y_test, y_pred_best))\n",
        "\n"
      ],
      "metadata": {
        "colab": {
          "base_uri": "https://localhost:8080/"
        },
        "id": "eAcLbbF3YPry",
        "outputId": "fc65d73b-30c3-4e6b-fd68-4f4f4946b168"
      },
      "execution_count": 7,
      "outputs": [
        {
          "output_type": "stream",
          "name": "stdout",
          "text": [
            "Best Parameters: {'max_depth': 3, 'min_samples_split': 2, 'n_estimators': 50}\n",
            "Tuned Accuracy: 0.6666666666666666\n"
          ]
        }
      ]
    },
    {
      "cell_type": "markdown",
      "source": [
        "\n",
        "📌 Best Performing Model:\n",
        "- Check which model had highest accuracy + balanced precision/recall. Likely Random Forest .\n",
        "\n",
        "| Model                   | Pros                                                     | Cons                                                 |\n",
        "| ----------------------- | -------------------------------------------------------- | ---------------------------------------------------- |\n",
        "| **Logistic Regression** | Interpretable, fast, works well for linear relationships | Poor for non-linear data, assumes linearity          |\n",
        "| **Random Forest**       | Robust, handles non-linearity, feature importance        | Slower, black-box model, may overfit without tuning  |\n",
        "| **XGBoost**             | High accuracy, handles imbalances, regularized           | Complex to tune, not easy to explain to stakeholders |\n",
        "\n",
        "\n",
        "Real-world Uses of Loan Approval Classification:\n",
        "\n",
        "- Banks (HDFC, SBI) for personal loans\n",
        "\n",
        "- NBFCs for education/vehicle loans\n",
        "\n",
        "- Credit scoring by FinTech apps\n",
        "\n"
      ],
      "metadata": {
        "id": "q3qsbBljYdcJ"
      }
    },
    {
      "cell_type": "code",
      "source": [],
      "metadata": {
        "id": "QE2b7gK9YXwp"
      },
      "execution_count": null,
      "outputs": []
    }
  ]
}