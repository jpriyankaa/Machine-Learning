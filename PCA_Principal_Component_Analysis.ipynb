{
  "nbformat": 4,
  "nbformat_minor": 0,
  "metadata": {
    "colab": {
      "provenance": []
    },
    "kernelspec": {
      "name": "python3",
      "display_name": "Python 3"
    },
    "language_info": {
      "name": "python"
    }
  },
  "cells": [
    {
      "cell_type": "markdown",
      "source": [
        "#  PCA Project: Dimensionality Reduction for Wine Classification\n",
        "🎯 Problem Statement:\n",
        "A wine quality control lab has data on various chemical properties of wines. We want to reduce the dimensionality of the data using PCA and visualize it while preserving as much variance as possible.\n",
        "\n",
        "✅ What is PCA?\n",
        "Principal Component Analysis is a linear dimensionality reduction technique that:\n",
        "\n",
        "Converts correlated features into a smaller set of uncorrelated variables (Principal Components).\n",
        "\n",
        "Helps in visualization, noise reduction, and speeding up ML algorithms."
      ],
      "metadata": {
        "id": "0XPiQbR6ylzZ"
      }
    },
    {
      "cell_type": "code",
      "execution_count": 1,
      "metadata": {
        "colab": {
          "base_uri": "https://localhost:8080/"
        },
        "id": "SemgrzFryTuS",
        "outputId": "76e4aa3a-5d70-4a1c-a742-a5e14521e859"
      },
      "outputs": [
        {
          "output_type": "execute_result",
          "data": {
            "text/plain": [
              "(178, 13)"
            ]
          },
          "metadata": {},
          "execution_count": 1
        }
      ],
      "source": [
        "# Load Dataset (Sklearn Wine Dataset)\n",
        "from sklearn.datasets import load_wine\n",
        "import pandas as pd\n",
        "\n",
        "wine = load_wine()\n",
        "X = pd.DataFrame(wine.data, columns=wine.feature_names)\n",
        "y = wine.target\n",
        "X.shape  # (178, 13)\n"
      ]
    },
    {
      "cell_type": "code",
      "source": [
        "# Explore the Data\n",
        "print(X.head())\n",
        "print(\"Target Classes:\", set(y))  # 3 classes of wine\n"
      ],
      "metadata": {
        "colab": {
          "base_uri": "https://localhost:8080/"
        },
        "id": "4zJ8kzaGyv2V",
        "outputId": "6aae905b-2055-4a55-8de2-0eac6a27ae01"
      },
      "execution_count": 2,
      "outputs": [
        {
          "output_type": "stream",
          "name": "stdout",
          "text": [
            "   alcohol  malic_acid   ash  alcalinity_of_ash  magnesium  total_phenols  \\\n",
            "0    14.23        1.71  2.43               15.6      127.0           2.80   \n",
            "1    13.20        1.78  2.14               11.2      100.0           2.65   \n",
            "2    13.16        2.36  2.67               18.6      101.0           2.80   \n",
            "3    14.37        1.95  2.50               16.8      113.0           3.85   \n",
            "4    13.24        2.59  2.87               21.0      118.0           2.80   \n",
            "\n",
            "   flavanoids  nonflavanoid_phenols  proanthocyanins  color_intensity   hue  \\\n",
            "0        3.06                  0.28             2.29             5.64  1.04   \n",
            "1        2.76                  0.26             1.28             4.38  1.05   \n",
            "2        3.24                  0.30             2.81             5.68  1.03   \n",
            "3        3.49                  0.24             2.18             7.80  0.86   \n",
            "4        2.69                  0.39             1.82             4.32  1.04   \n",
            "\n",
            "   od280/od315_of_diluted_wines  proline  \n",
            "0                          3.92   1065.0  \n",
            "1                          3.40   1050.0  \n",
            "2                          3.17   1185.0  \n",
            "3                          3.45   1480.0  \n",
            "4                          2.93    735.0  \n",
            "Target Classes: {np.int64(0), np.int64(1), np.int64(2)}\n"
          ]
        }
      ]
    },
    {
      "cell_type": "code",
      "source": [
        "#  Preprocessing\n",
        "# PCA is sensitive to scale — we must scale features.\n",
        "from sklearn.preprocessing import StandardScaler\n",
        "\n",
        "scaler = StandardScaler()\n",
        "X_scaled = scaler.fit_transform(X)\n"
      ],
      "metadata": {
        "id": "Q7f4r_RWy1K7"
      },
      "execution_count": 3,
      "outputs": []
    },
    {
      "cell_type": "code",
      "source": [
        "# Apply PCA\n",
        "# We'll reduce from 13 → 2 dimensions for visualization.\n",
        "from sklearn.decomposition import PCA\n",
        "\n",
        "pca = PCA(n_components=2)\n",
        "X_pca = pca.fit_transform(X_scaled)\n"
      ],
      "metadata": {
        "id": "t85pP1Egy8Vj"
      },
      "execution_count": 4,
      "outputs": []
    },
    {
      "cell_type": "code",
      "source": [
        "# Visualize PCA Components\n",
        "import matplotlib.pyplot as plt\n",
        "\n",
        "plt.figure(figsize=(8, 6))\n",
        "for i, label in enumerate(set(y)):\n",
        "    plt.scatter(X_pca[y == label, 0], X_pca[y == label, 1], label=f\"Class {label}\")\n",
        "\n",
        "plt.xlabel(\"Principal Component 1\")\n",
        "plt.ylabel(\"Principal Component 2\")\n",
        "plt.title(\"PCA - Wine Dataset (2D)\")\n",
        "plt.legend()\n",
        "plt.grid()\n",
        "plt.show()\n",
        "\n"
      ],
      "metadata": {
        "colab": {
          "base_uri": "https://localhost:8080/",
          "height": 564
        },
        "id": "qLTGnLNjzDAT",
        "outputId": "cc398b93-323b-4a90-8291-687a6e89a44b"
      },
      "execution_count": 5,
      "outputs": [
        {
          "output_type": "display_data",
          "data": {
            "text/plain": [
              "<Figure size 800x600 with 1 Axes>"
            ],
            "image/png": "[encoded data removed]"
          },
          "metadata": {}
        }
      ]
    },
    {
      "cell_type": "code",
      "source": [
        "# Variance Explained\n",
        "# You’ll typically see ~60–70% variance retained with 2 components.\n",
        "\n",
        "print(\"Explained Variance Ratio:\", pca.explained_variance_ratio_)\n",
        "print(\"Total Variance Captured:\", sum(pca.explained_variance_ratio_))\n"
      ],
      "metadata": {
        "colab": {
          "base_uri": "https://localhost:8080/"
        },
        "id": "0OtyWsPAzJ67",
        "outputId": "0a419081-f5fd-45f4-8355-aa4e49ed8771"
      },
      "execution_count": 7,
      "outputs": [
        {
          "output_type": "stream",
          "name": "stdout",
          "text": [
            "Explained Variance Ratio: [0.36198848 0.1920749 ]\n",
            "Total Variance Captured: 0.5540633835693526\n"
          ]
        }
      ]
    },
    {
      "cell_type": "code",
      "source": [
        "# Optional: PCA for Model Training\n",
        "# We can also train a classifier using the reduced features.\n",
        "\n",
        "from sklearn.model_selection import train_test_split\n",
        "from sklearn.ensemble import RandomForestClassifier\n",
        "from sklearn.metrics import accuracy_score\n",
        "\n",
        "X_train, X_test, y_train, y_test = train_test_split(X_pca, y, test_size=0.2, random_state=42)\n",
        "\n",
        "model = RandomForestClassifier()\n",
        "model.fit(X_train, y_train)\n",
        "y_pred = model.predict(X_test)\n",
        "\n",
        "print(\"Accuracy on PCA-reduced data:\", accuracy_score(y_test, y_pred))\n"
      ],
      "metadata": {
        "colab": {
          "base_uri": "https://localhost:8080/"
        },
        "id": "UXVvaHq3zP2K",
        "outputId": "2cd65a96-53fd-4db3-a2a5-a49578dc89fd"
      },
      "execution_count": 8,
      "outputs": [
        {
          "output_type": "stream",
          "name": "stdout",
          "text": [
            "Accuracy on PCA-reduced data: 1.0\n"
          ]
        }
      ]
    },
    {
      "cell_type": "markdown",
      "source": [
        "| Pros                           | Why It’s Useful                          |\n",
        "| ------------------------------ | ---------------------------------------- |\n",
        "| 🎯 Reduces dimensionality      | Makes data simpler and faster to process |\n",
        "| 📊 Removes multicollinearity   | Uncorrelated PCs = stable models         |\n",
        "| 🎨 Enables 2D/3D visualization | Visualizes complex data easily           |\n",
        "| 🚀 Boosts ML speed             | Especially in high dimensions            |\n",
        "\n",
        "\n",
        "\n",
        "\n",
        "| Cons                             | Why It Can Hurt                           |\n",
        "| -------------------------------- | ----------------------------------------- |\n",
        "| ❌ Loss of interpretability       | PCs are combinations of original features |\n",
        "| ⚠️ May discard useful info       | Especially if you keep too few PCs        |\n",
        "| ❌ Only captures linear structure | Can’t capture non-linear relationships    |\n",
        "\n",
        "\n",
        "\n",
        "Real-World Use Cases\n",
        "🧬 Gene expression dimensionality reduction\n",
        "\n",
        "🛒 Reducing customer features before clustering\n",
        "\n",
        "🖼️ Image compression\n",
        "\n",
        "🔍 Noise filtering in sensor data\n",
        "\n",
        "🤖 Preprocessing before ML models\n",
        "\n",
        "\n",
        "\n",
        "| Step              | Result                                       |\n",
        "| ----------------- | -------------------------------------------- |\n",
        "| Input Dimensions  | 13 (wine chemical features)                  |\n",
        "| PCA Output        | 2 components                                 |\n",
        "| Variance Captured | \\~60–70%                                     |\n",
        "| Application       | Visualization + Random Forest Classification |\n"
      ],
      "metadata": {
        "id": "yoQO7iw_zh49"
      }
    },
    {
      "cell_type": "code",
      "source": [],
      "metadata": {
        "id": "hlYm2zSzzdzb"
      },
      "execution_count": null,
      "outputs": []
    }
  ]
}