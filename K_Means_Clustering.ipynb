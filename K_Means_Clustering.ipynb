{
  "nbformat": 4,
  "nbformat_minor": 0,
  "metadata": {
    "colab": {
      "provenance": []
    },
    "kernelspec": {
      "name": "python3",
      "display_name": "Python 3"
    },
    "language_info": {
      "name": "python"
    }
  },
  "cells": [
    {
      "cell_type": "markdown",
      "source": [
        "#  K-Means Clustering Project: Customer Segmentation for a Retail Store\n",
        "\n",
        "Problem Statement:\n",
        "- Segment retail customers based on their purchasing behavior (e.g., frequency, amount spent, recency) so the store can target marketing campaigns to different customer groups.\n",
        "\n",
        "K-Means is ideal here because:\n",
        "\n",
        "- No labels (no y column)\n",
        "\n",
        "- Natural clusters (high spender, frequent buyer, new customer, etc.)\n",
        "\n",
        "| Feature            | Description                           |\n",
        "| ------------------ | ------------------------------------- |\n",
        "| `annual_spending`  | Total amount spent in a year (₹1000s) |\n",
        "| `visits_per_month` | Average store visits per month        |\n",
        "| `recency`          | Days since last purchase              |\n",
        "| `loyalty_years`    | Years as a customer                   |\n",
        "\n",
        "\n"
      ],
      "metadata": {
        "id": "KfQb7pktrZlh"
      }
    },
    {
      "cell_type": "code",
      "execution_count": 1,
      "metadata": {
        "colab": {
          "base_uri": "https://localhost:8080/",
          "height": 206
        },
        "id": "4gEoI48PoRZG",
        "outputId": "c28e278f-157e-40f5-ad4d-070e603e71a4"
      },
      "outputs": [
        {
          "output_type": "execute_result",
          "data": {
            "text/plain": [
              "   annual_spending  visits_per_month  recency  loyalty_years\n",
              "0              122                 1       36            3.9\n",
              "1              199                12       50            3.2\n",
              "2              112                12        4            5.7\n",
              "3               34                17        2            1.8\n",
              "4              126                10        6            8.1"
            ],
            "text/html": [
              "\n",
              "  <div id=\"df-8e58b7bc-8a95-436d-8b8a-e4661a5d5a4c\" class=\"colab-df-container\">\n",
              "    <div>\n",
              "<style scoped>\n",
              "    .dataframe tbody tr th:only-of-type {\n",
              "        vertical-align: middle;\n",
              "    }\n",
              "\n",
              "    .dataframe tbody tr th {\n",
              "        vertical-align: top;\n",
              "    }\n",
              "\n",
              "    .dataframe thead th {\n",
              "        text-align: right;\n",
              "    }\n",
              "</style>\n",
              "<table border=\"1\" class=\"dataframe\">\n",
              "  <thead>\n",
              "    <tr style=\"text-align: right;\">\n",
              "      <th></th>\n",
              "      <th>annual_spending</th>\n",
              "      <th>visits_per_month</th>\n",
              "      <th>recency</th>\n",
              "      <th>loyalty_years</th>\n",
              "    </tr>\n",
              "  </thead>\n",
              "  <tbody>\n",
              "    <tr>\n",
              "      <th>0</th>\n",
              "      <td>122</td>\n",
              "      <td>1</td>\n",
              "      <td>36</td>\n",
              "      <td>3.9</td>\n",
              "    </tr>\n",
              "    <tr>\n",
              "      <th>1</th>\n",
              "      <td>199</td>\n",
              "      <td>12</td>\n",
              "      <td>50</td>\n",
              "      <td>3.2</td>\n",
              "    </tr>\n",
              "    <tr>\n",
              "      <th>2</th>\n",
              "      <td>112</td>\n",
              "      <td>12</td>\n",
              "      <td>4</td>\n",
              "      <td>5.7</td>\n",
              "    </tr>\n",
              "    <tr>\n",
              "      <th>3</th>\n",
              "      <td>34</td>\n",
              "      <td>17</td>\n",
              "      <td>2</td>\n",
              "      <td>1.8</td>\n",
              "    </tr>\n",
              "    <tr>\n",
              "      <th>4</th>\n",
              "      <td>126</td>\n",
              "      <td>10</td>\n",
              "      <td>6</td>\n",
              "      <td>8.1</td>\n",
              "    </tr>\n",
              "  </tbody>\n",
              "</table>\n",
              "</div>\n",
              "    <div class=\"colab-df-buttons\">\n",
              "\n",
              "  <div class=\"colab-df-container\">\n",
              "    <button class=\"colab-df-convert\" onclick=\"convertToInteractive('df-8e58b7bc-8a95-436d-8b8a-e4661a5d5a4c')\"\n",
              "            title=\"Convert this dataframe to an interactive table.\"\n",
              "            style=\"display:none;\">\n",
              "\n",
              "  <svg xmlns=\"http://www.w3.org/2000/svg\" height=\"24px\" viewBox=\"0 -960 960 960\">\n",
              "    <path d=\"M120-120v-720h720v720H120Zm60-500h600v-160H180v160Zm220 220h160v-160H400v160Zm0 220h160v-160H400v160ZM180-400h160v-160H180v160Zm440 0h160v-160H620v160ZM180-180h160v-160H180v160Zm440 0h160v-160H620v160Z\"/>\n",
              "  </svg>\n",
              "    </button>\n",
              "\n",
              "  <style>\n",
              "    .colab-df-container {\n",
              "      display:flex;\n",
              "      gap: 12px;\n",
              "    }\n",
              "\n",
              "    .colab-df-convert {\n",
              "      background-color: #E8F0FE;\n",
              "      border: none;\n",
              "      border-radius: 50%;\n",
              "      cursor: pointer;\n",
              "      display: none;\n",
              "      fill: #1967D2;\n",
              "      height: 32px;\n",
              "      padding: 0 0 0 0;\n",
              "      width: 32px;\n",
              "    }\n",
              "\n",
              "    .colab-df-convert:hover {\n",
              "      background-color: #E2EBFA;\n",
              "      box-shadow: 0px 1px 2px rgba(60, 64, 67, 0.3), 0px 1px 3px 1px rgba(60, 64, 67, 0.15);\n",
              "      fill: #174EA6;\n",
              "    }\n",
              "\n",
              "    .colab-df-buttons div {\n",
              "      margin-bottom: 4px;\n",
              "    }\n",
              "\n",
              "    [theme=dark] .colab-df-convert {\n",
              "      background-color: #3B4455;\n",
              "      fill: #D2E3FC;\n",
              "    }\n",
              "\n",
              "    [theme=dark] .colab-df-convert:hover {\n",
              "      background-color: #434B5C;\n",
              "      box-shadow: 0px 1px 3px 1px rgba(0, 0, 0, 0.15);\n",
              "      filter: drop-shadow(0px 1px 2px rgba(0, 0, 0, 0.3));\n",
              "      fill: #FFFFFF;\n",
              "    }\n",
              "  </style>\n",
              "\n",
              "    <script>\n",
              "      const buttonEl =\n",
              "        document.querySelector('#df-8e58b7bc-8a95-436d-8b8a-e4661a5d5a4c button.colab-df-convert');\n",
              "      buttonEl.style.display =\n",
              "        google.colab.kernel.accessAllowed ? 'block' : 'none';\n",
              "\n",
              "      async function convertToInteractive(key) {\n",
              "        const element = document.querySelector('#df-8e58b7bc-8a95-436d-8b8a-e4661a5d5a4c');\n",
              "        const dataTable =\n",
              "          await google.colab.kernel.invokeFunction('convertToInteractive',\n",
              "                                                    [key], {});\n",
              "        if (!dataTable) return;\n",
              "\n",
              "        const docLinkHtml = 'Like what you see? Visit the ' +\n",
              "          '<a target=\"_blank\" href=https://colab.research.google.com/notebooks/data_table.ipynb>data table notebook</a>'\n",
              "          + ' to learn more about interactive tables.';\n",
              "        element.innerHTML = '';\n",
              "        dataTable['output_type'] = 'display_data';\n",
              "        await google.colab.output.renderOutput(dataTable, element);\n",
              "        const docLink = document.createElement('div');\n",
              "        docLink.innerHTML = docLinkHtml;\n",
              "        element.appendChild(docLink);\n",
              "      }\n",
              "    </script>\n",
              "  </div>\n",
              "\n",
              "\n",
              "    <div id=\"df-2de949e7-e913-4a48-88c8-226c61c90762\">\n",
              "      <button class=\"colab-df-quickchart\" onclick=\"quickchart('df-2de949e7-e913-4a48-88c8-226c61c90762')\"\n",
              "                title=\"Suggest charts\"\n",
              "                style=\"display:none;\">\n",
              "\n",
              "<svg xmlns=\"http://www.w3.org/2000/svg\" height=\"24px\"viewBox=\"0 0 24 24\"\n",
              "     width=\"24px\">\n",
              "    <g>\n",
              "        <path d=\"M19 3H5c-1.1 0-2 .9-2 2v14c0 1.1.9 2 2 2h14c1.1 0 2-.9 2-2V5c0-1.1-.9-2-2-2zM9 17H7v-7h2v7zm4 0h-2V7h2v10zm4 0h-2v-4h2v4z\"/>\n",
              "    </g>\n",
              "</svg>\n",
              "      </button>\n",
              "\n",
              "<style>\n",
              "  .colab-df-quickchart {\n",
              "      --bg-color: #E8F0FE;\n",
              "      --fill-color: #1967D2;\n",
              "      --hover-bg-color: #E2EBFA;\n",
              "      --hover-fill-color: #174EA6;\n",
              "      --disabled-fill-color: #AAA;\n",
              "      --disabled-bg-color: #DDD;\n",
              "  }\n",
              "\n",
              "  [theme=dark] .colab-df-quickchart {\n",
              "      --bg-color: #3B4455;\n",
              "      --fill-color: #D2E3FC;\n",
              "      --hover-bg-color: #434B5C;\n",
              "      --hover-fill-color: #FFFFFF;\n",
              "      --disabled-bg-color: #3B4455;\n",
              "      --disabled-fill-color: #666;\n",
              "  }\n",
              "\n",
              "  .colab-df-quickchart {\n",
              "    background-color: var(--bg-color);\n",
              "    border: none;\n",
              "    border-radius: 50%;\n",
              "    cursor: pointer;\n",
              "    display: none;\n",
              "    fill: var(--fill-color);\n",
              "    height: 32px;\n",
              "    padding: 0;\n",
              "    width: 32px;\n",
              "  }\n",
              "\n",
              "  .colab-df-quickchart:hover {\n",
              "    background-color: var(--hover-bg-color);\n",
              "    box-shadow: 0 1px 2px rgba(60, 64, 67, 0.3), 0 1px 3px 1px rgba(60, 64, 67, 0.15);\n",
              "    fill: var(--button-hover-fill-color);\n",
              "  }\n",
              "\n",
              "  .colab-df-quickchart-complete:disabled,\n",
              "  .colab-df-quickchart-complete:disabled:hover {\n",
              "    background-color: var(--disabled-bg-color);\n",
              "    fill: var(--disabled-fill-color);\n",
              "    box-shadow: none;\n",
              "  }\n",
              "\n",
              "  .colab-df-spinner {\n",
              "    border: 2px solid var(--fill-color);\n",
              "    border-color: transparent;\n",
              "    border-bottom-color: var(--fill-color);\n",
              "    animation:\n",
              "      spin 1s steps(1) infinite;\n",
              "  }\n",
              "\n",
              "  @keyframes spin {\n",
              "    0% {\n",
              "      border-color: transparent;\n",
              "      border-bottom-color: var(--fill-color);\n",
              "      border-left-color: var(--fill-color);\n",
              "    }\n",
              "    20% {\n",
              "      border-color: transparent;\n",
              "      border-left-color: var(--fill-color);\n",
              "      border-top-color: var(--fill-color);\n",
              "    }\n",
              "    30% {\n",
              "      border-color: transparent;\n",
              "      border-left-color: var(--fill-color);\n",
              "      border-top-color: var(--fill-color);\n",
              "      border-right-color: var(--fill-color);\n",
              "    }\n",
              "    40% {\n",
              "      border-color: transparent;\n",
              "      border-right-color: var(--fill-color);\n",
              "      border-top-color: var(--fill-color);\n",
              "    }\n",
              "    60% {\n",
              "      border-color: transparent;\n",
              "      border-right-color: var(--fill-color);\n",
              "    }\n",
              "    80% {\n",
              "      border-color: transparent;\n",
              "      border-right-color: var(--fill-color);\n",
              "      border-bottom-color: var(--fill-color);\n",
              "    }\n",
              "    90% {\n",
              "      border-color: transparent;\n",
              "      border-bottom-color: var(--fill-color);\n",
              "    }\n",
              "  }\n",
              "</style>\n",
              "\n",
              "      <script>\n",
              "        async function quickchart(key) {\n",
              "          const quickchartButtonEl =\n",
              "            document.querySelector('#' + key + ' button');\n",
              "          quickchartButtonEl.disabled = true;  // To prevent multiple clicks.\n",
              "          quickchartButtonEl.classList.add('colab-df-spinner');\n",
              "          try {\n",
              "            const charts = await google.colab.kernel.invokeFunction(\n",
              "                'suggestCharts', [key], {});\n",
              "          } catch (error) {\n",
              "            console.error('Error during call to suggestCharts:', error);\n",
              "          }\n",
              "          quickchartButtonEl.classList.remove('colab-df-spinner');\n",
              "          quickchartButtonEl.classList.add('colab-df-quickchart-complete');\n",
              "        }\n",
              "        (() => {\n",
              "          let quickchartButtonEl =\n",
              "            document.querySelector('#df-2de949e7-e913-4a48-88c8-226c61c90762 button');\n",
              "          quickchartButtonEl.style.display =\n",
              "            google.colab.kernel.accessAllowed ? 'block' : 'none';\n",
              "        })();\n",
              "      </script>\n",
              "    </div>\n",
              "\n",
              "    </div>\n",
              "  </div>\n"
            ],
            "application/vnd.google.colaboratory.intrinsic+json": {
              "type": "dataframe",
              "variable_name": "data",
              "summary": "{\n  \"name\": \"data\",\n  \"rows\": 30,\n  \"fields\": [\n    {\n      \"column\": \"annual_spending\",\n      \"properties\": {\n        \"dtype\": \"number\",\n        \"std\": 61,\n        \"min\": 21,\n        \"max\": 234,\n        \"num_unique_values\": 27,\n        \"samples\": [\n          141,\n          107,\n          230\n        ],\n        \"semantic_type\": \"\",\n        \"description\": \"\"\n      }\n    },\n    {\n      \"column\": \"visits_per_month\",\n      \"properties\": {\n        \"dtype\": \"number\",\n        \"std\": 5,\n        \"min\": 1,\n        \"max\": 19,\n        \"num_unique_values\": 16,\n        \"samples\": [\n          1,\n          12,\n          15\n        ],\n        \"semantic_type\": \"\",\n        \"description\": \"\"\n      }\n    },\n    {\n      \"column\": \"recency\",\n      \"properties\": {\n        \"dtype\": \"number\",\n        \"std\": 29,\n        \"min\": 2,\n        \"max\": 95,\n        \"num_unique_values\": 27,\n        \"samples\": [\n          18,\n          62,\n          90\n        ],\n        \"semantic_type\": \"\",\n        \"description\": \"\"\n      }\n    },\n    {\n      \"column\": \"loyalty_years\",\n      \"properties\": {\n        \"dtype\": \"number\",\n        \"std\": 2.861317516640627,\n        \"min\": 0.6,\n        \"max\": 9.9,\n        \"num_unique_values\": 24,\n        \"samples\": [\n          2.4,\n          3.6,\n          3.9\n        ],\n        \"semantic_type\": \"\",\n        \"description\": \"\"\n      }\n    }\n  ]\n}"
            }
          },
          "metadata": {},
          "execution_count": 1
        }
      ],
      "source": [
        "# Simulate Dataset\n",
        "\n",
        "import pandas as pd\n",
        "import numpy as np\n",
        "\n",
        "np.random.seed(42)\n",
        "\n",
        "data = pd.DataFrame({\n",
        "    'annual_spending': np.random.randint(20, 250, 30),\n",
        "    'visits_per_month': np.random.randint(1, 20, 30),\n",
        "    'recency': np.random.randint(1, 100, 30),\n",
        "    'loyalty_years': np.round(np.random.uniform(0.5, 10, 30), 1)\n",
        "})\n",
        "\n",
        "data.head()\n"
      ]
    },
    {
      "cell_type": "code",
      "source": [
        "# Preprocessing\n",
        "# We need to scale the data before using K-Means.\n",
        "from sklearn.preprocessing import StandardScaler\n",
        "\n",
        "scaler = StandardScaler()\n",
        "scaled_data = scaler.fit_transform(data)\n"
      ],
      "metadata": {
        "id": "efO-ZDc3rtY1"
      },
      "execution_count": 2,
      "outputs": []
    },
    {
      "cell_type": "code",
      "source": [
        "# Fit K-Means Model\n",
        "# Let’s try 3 clusters first.\n",
        "from sklearn.cluster import KMeans\n",
        "\n",
        "kmeans = KMeans(n_clusters=3, random_state=42, n_init=10)\n",
        "kmeans.fit(scaled_data)\n",
        "\n",
        "data['cluster'] = kmeans.labels_\n"
      ],
      "metadata": {
        "id": "gGyBK0rur4pi"
      },
      "execution_count": 3,
      "outputs": []
    },
    {
      "cell_type": "code",
      "source": [
        "# Visualize Clusters (2D using PCA)\n",
        "import matplotlib.pyplot as plt\n",
        "from sklearn.decomposition import PCA\n",
        "\n",
        "pca = PCA(n_components=2)\n",
        "reduced = pca.fit_transform(scaled_data)\n",
        "\n",
        "plt.figure(figsize=(8, 5))\n",
        "plt.scatter(reduced[:, 0], reduced[:, 1], c=data['cluster'], cmap='Set1', s=80)\n",
        "plt.title(\"K-Means Customer Segments\")\n",
        "plt.xlabel(\"PCA Component 1\")\n",
        "plt.ylabel(\"PCA Component 2\")\n",
        "plt.grid()\n",
        "plt.colorbar(label='Cluster ID')\n",
        "plt.show()\n"
      ],
      "metadata": {
        "colab": {
          "base_uri": "https://localhost:8080/",
          "height": 487
        },
        "id": "g1Gm3g1ysChi",
        "outputId": "21310c6d-2768-4172-a212-34d5887a29e3"
      },
      "execution_count": 4,
      "outputs": [
        {
          "output_type": "display_data",
          "data": {
            "text/plain": [
              "<Figure size 800x500 with 2 Axes>"
            ],
            "image/png": "[encoded data removed]"
          },
          "metadata": {}
        }
      ]
    },
    {
      "cell_type": "code",
      "source": [
        "# Find Optimal Number of Clusters (Elbow Method)\n",
        "\n",
        "inertias = []\n",
        "for k in range(1, 10):\n",
        "    km = KMeans(n_clusters=k, random_state=42, n_init=10)\n",
        "    km.fit(scaler.transform(data.drop('cluster', axis=1)))\n",
        "    inertias.append(km.inertia_)\n",
        "\n",
        "plt.plot(range(1, 10), inertias, marker='o')\n",
        "plt.xlabel('Number of Clusters')\n",
        "plt.ylabel('Inertia')\n",
        "plt.title('Elbow Method for Optimal K')\n",
        "plt.grid()\n",
        "plt.show()\n",
        "\n",
        "# Look for the \"elbow\" point — that’s the ideal number of clusters.\n"
      ],
      "metadata": {
        "colab": {
          "base_uri": "https://localhost:8080/",
          "height": 472
        },
        "id": "m5K_2DFMsJCi",
        "outputId": "4709433d-1ac2-41e4-926a-2faf405fd65b"
      },
      "execution_count": 6,
      "outputs": [
        {
          "output_type": "display_data",
          "data": {
            "text/plain": [
              "<Figure size 640x480 with 1 Axes>"
            ],
            "image/png": "[encoded data removed]"
          },
          "metadata": {}
        }
      ]
    },
    {
      "cell_type": "code",
      "source": [
        "# Interpret the Cluster\n",
        "\n",
        "# View mean of each cluster\n",
        "cluster_summary = data.groupby('cluster').mean()\n",
        "print(cluster_summary)\n"
      ],
      "metadata": {
        "colab": {
          "base_uri": "https://localhost:8080/"
        },
        "id": "Lk6QmUDMsS4S",
        "outputId": "6454f7b3-ee13-4153-aa47-88cf03a57c5f"
      },
      "execution_count": 7,
      "outputs": [
        {
          "output_type": "stream",
          "name": "stdout",
          "text": [
            "         annual_spending  visits_per_month    recency  loyalty_years\n",
            "cluster                                                             \n",
            "0              91.000000         16.454545  48.181818       3.881818\n",
            "1             133.800000          5.500000  73.600000       4.740000\n",
            "2             183.555556         11.000000  28.555556       7.022222\n"
          ]
        }
      ]
    },
    {
      "cell_type": "markdown",
      "source": [
        "Example Interpretation:\n",
        "\n",
        "| Cluster | Description                    |\n",
        "| ------- | ------------------------------ |\n",
        "| 0       | Newer customers, low spenders  |\n",
        "| 1       | Loyal, high-frequency shoppers |\n",
        "| 2       | Infrequent, high-value buyers  |\n",
        "\n",
        "| Strength                                  | Why It Helps                 |\n",
        "| ----------------------------------------- | ---------------------------- |\n",
        "| 💡 Easy to implement                      | Only need number of clusters |\n",
        "| ⚡ Fast & efficient                        | Even on large datasets       |\n",
        "| 📊 Works well when clusters are spherical | Easy to visualize using PCA  |\n",
        "\n",
        "\n",
        "| Limitation                   | Why It Matters                       |\n",
        "| ---------------------------- | ------------------------------------ |\n",
        "| ❌ Must specify `k`           | May not know how many clusters exist |\n",
        "| 🧠 Sensitive to scaling      | Needs normalization                  |\n",
        "| ⚠️ Sensitive to outliers     | Can shift centroids wrongly          |\n",
        "| ⭕ Assumes spherical clusters | Poor for irregular shapes            |\n",
        "\n",
        "\n",
        "Real-World Use Cases\n",
        "📦 E-commerce: Customer segmentation\n",
        "\n",
        "💳 Banking: Transaction pattern clustering\n",
        "\n",
        "🛒 Retail: Personalized promotions\n",
        "\n",
        "🎮 Gaming: Player behavior clustering\n"
      ],
      "metadata": {
        "id": "HHjTu822shAe"
      }
    },
    {
      "cell_type": "code",
      "source": [
        "# Optional: Save Clustered Data\n",
        "# data.to_csv(\"segmented_customers.csv\", index=False)"
      ],
      "metadata": {
        "id": "k82NsWGTseSC"
      },
      "execution_count": 9,
      "outputs": []
    },
    {
      "cell_type": "markdown",
      "source": [
        "Project Summary\n",
        "Goal: Group retail customers by purchasing behavior using K-Means\n",
        "\n",
        "Method: PCA + clustering + elbow method\n",
        "\n",
        "Outcome: Found 3 natural customer segments for personalized marketing\n",
        "\n",
        "Tools: KMeans, PCA, StandardScaler"
      ],
      "metadata": {
        "id": "TVu1G58Hs8Xb"
      }
    },
    {
      "cell_type": "code",
      "source": [],
      "metadata": {
        "id": "eHZdQdSas3QS"
      },
      "execution_count": null,
      "outputs": []
    }
  ]
}